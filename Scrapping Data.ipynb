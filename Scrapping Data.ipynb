{
 "cells": [
  {
   "cell_type": "markdown",
   "id": "a38d3ae3",
   "metadata": {},
   "source": [
    "# Scrapping Data\n",
    "\n",
    "#### In many instances, to train your models you may not find a proper dataset or else the dataset will have lot of garbage which you need to handle later. So it is very important to know some basic data scrapping technoques to get data from a website and make your own dataset. Here is easy guide for you to follow."
   ]
  },
  {
   "cell_type": "markdown",
   "id": "ef6f482e",
   "metadata": {},
   "source": [
    "### Install libraries properly"
   ]
  },
  {
   "cell_type": "code",
   "execution_count": 1,
   "id": "cb0a6fc2",
   "metadata": {},
   "outputs": [],
   "source": [
    "import requests\n",
    "from bs4 import BeautifulSoup\n",
    "import pandas as pd"
   ]
  },
  {
   "cell_type": "markdown",
   "id": "3bc97d9e",
   "metadata": {},
   "source": [
    "#### In this notebook we will scrape few websites and create a dataset which helpful for creating a CV screening NLP model"
   ]
  },
  {
   "cell_type": "markdown",
   "id": "7ddc6102",
   "metadata": {},
   "source": [
    "### Data Scrapping realted to Job Titles names\n"
   ]
  },
  {
   "cell_type": "code",
   "execution_count": 2,
   "id": "070fb6b7",
   "metadata": {},
   "outputs": [],
   "source": [
    "# we are gonna use www.jobscan.co to get some data\n",
    "\n",
    "req = requests.get(\"https://www.joblist.com/b/all-jobs\")\n",
    "soup = BeautifulSoup(req.content, 'lxml')"
   ]
  },
  {
   "cell_type": "code",
   "execution_count": 3,
   "id": "7a42d35c",
   "metadata": {},
   "outputs": [],
   "source": [
    "# filter the html lines we are interested in\n",
    "\n",
    "filter_data = soup.find_all('li')"
   ]
  },
  {
   "cell_type": "code",
   "execution_count": 9,
   "id": "102cef28",
   "metadata": {},
   "outputs": [
    {
     "name": "stdout",
     "output_type": "stream",
     "text": [
      "<li><a href=\"/\">Home</a></li>\n",
      "<li><a href=\"/about\">About</a></li>\n",
      "<li><a href=\"/career-advice\">Blog</a></li>\n",
      "<li><a href=\"/faq\">FAQ</a></li>\n",
      "<li><a href=\"/contact-us\">Contact</a></li>\n",
      "<li><a href=\"/post-a-job\">Post a Job</a></li>\n",
      "<li><a href=\"/search\">Find Jobs</a></li>\n",
      "<li><a href=\"/login\">Log In</a></li>\n",
      "<li><a href=\"/signup\">Sign Up</a></li>\n",
      "<li data-cy=\"browse-list-link\"><a href=\"/b/Truck-Driver-jobs\">Truck Driver</a></li>\n",
      "<li data-cy=\"browse-list-link\"><a href=\"/b/Nurse-jobs\">Nurse</a></li>\n",
      "<li data-cy=\"browse-list-link\"><a href=\"/b/Sales-jobs\">Sales</a></li>\n"
     ]
    }
   ],
   "source": [
    "#find the start of the interested lines\n",
    "\n",
    "for i in range(0,12): print(filter_data[i])"
   ]
  },
  {
   "cell_type": "code",
   "execution_count": 10,
   "id": "67f7267f",
   "metadata": {},
   "outputs": [
    {
     "data": {
      "text/plain": [
       "4836"
      ]
     },
     "execution_count": 10,
     "metadata": {},
     "output_type": "execute_result"
    }
   ],
   "source": [
    "len(filter_data)"
   ]
  },
  {
   "cell_type": "code",
   "execution_count": 33,
   "id": "2ff4b69a",
   "metadata": {},
   "outputs": [
    {
     "data": {
      "text/plain": [
       "<li data-cy=\"browse-list-link\"><a href=\"/b/Timekeeper-jobs\">Timekeeper</a></li>"
      ]
     },
     "execution_count": 33,
     "metadata": {},
     "output_type": "execute_result"
    }
   ],
   "source": [
    "#find the end of the interested lines\n",
    "\n",
    "filter_data[4762]"
   ]
  },
  {
   "cell_type": "code",
   "execution_count": 34,
   "id": "1fd84c21",
   "metadata": {},
   "outputs": [
    {
     "data": {
      "text/plain": [
       "'Timekeeper'"
      ]
     },
     "execution_count": 34,
     "metadata": {},
     "output_type": "execute_result"
    }
   ],
   "source": [
    "# As you need the text part \n",
    "filter_data[4762].text"
   ]
  },
  {
   "cell_type": "code",
   "execution_count": 36,
   "id": "5fe9085e",
   "metadata": {},
   "outputs": [],
   "source": [
    "# Add all of them to a list\n",
    "\n",
    "scrap_job = list(map(lambda x:x.text,filter_data[9:4762]))"
   ]
  },
  {
   "cell_type": "code",
   "execution_count": 37,
   "id": "447909bf",
   "metadata": {},
   "outputs": [
    {
     "data": {
      "text/plain": [
       "['Truck Driver',\n",
       " 'Nurse',\n",
       " 'Sales',\n",
       " 'Company Driver',\n",
       " 'Registered Nurse',\n",
       " 'Otr Driver',\n",
       " 'Caregiver',\n",
       " 'Delivery Driver',\n",
       " 'Customer Service',\n",
       " 'Analyst']"
      ]
     },
     "execution_count": 37,
     "metadata": {},
     "output_type": "execute_result"
    }
   ],
   "source": [
    "scrap_job[0:10]"
   ]
  }
 ],
 "metadata": {
  "kernelspec": {
   "display_name": "Python 3",
   "language": "python",
   "name": "python3"
  },
  "language_info": {
   "codemirror_mode": {
    "name": "ipython",
    "version": 3
   },
   "file_extension": ".py",
   "mimetype": "text/x-python",
   "name": "python",
   "nbconvert_exporter": "python",
   "pygments_lexer": "ipython3",
   "version": "3.8.8"
  }
 },
 "nbformat": 4,
 "nbformat_minor": 5
}
